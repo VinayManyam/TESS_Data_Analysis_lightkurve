{
 "cells": [
  {
   "cell_type": "code",
   "execution_count": 4,
   "id": "3be45825-bef3-4e00-a781-c8fa2004e0fc",
   "metadata": {},
   "outputs": [],
   "source": [
    "import lightkurve as lk\n",
    "import numpy as np\n",
    "import matplotlib.pyplot as plt\n",
    "%matplotlib inline\n",
    "import openpyxl\n",
    "import os\n",
    "import glob\n",
    "import pandas as pd\n",
    "from datetime import datetime\n",
    "import shutil\n",
    "\n",
    "\n",
    "import warnings\n",
    "warnings.filterwarnings(\"ignore\")\n"
   ]
  },
  {
   "cell_type": "code",
   "execution_count": 5,
   "id": "5c0fcc86-35bf-4700-920b-5b2e3f475ad2",
   "metadata": {},
   "outputs": [],
   "source": [
    "\n",
    "\n",
    "def lifht_pro(tic_name,oname):\n",
    "    wb = openpyxl.load_workbook(oname) \n",
    "    ws = wb.worksheets[0]\n",
    "\n",
    "    k=1\n",
    "    l=1\n",
    "\n",
    "\n",
    "    search_lcf_refined=lk.search_lightcurve(tic_name)\n",
    "\n",
    "    print(len(search_lcf_refined))\n",
    "    #print(dir(search_lcf_refined))\n",
    "    for i in range(len(search_lcf_refined)):  \n",
    "    #for i in range(1,2):\n",
    "        print(tic_name,\":\",str(i))\n",
    "        try:\n",
    "            \n",
    "\n",
    "            df=search_lcf_refined[i];\n",
    "            lcf = search_lcf_refined[i].download()\n",
    "            pname=str(df.obsid[0])+\"_\"+df.mission[0]+\"_\"+str(df.year[0])+\".png\"\n",
    "            pdcsap_flux_name=str(df.obsid[0])+\"_\"+df.mission[0]+\"_\"+str(df.year[0])+\"_pdcsap.png\"\n",
    "            pname_flat=str(df.obsid[0])+\"_\"+df.mission[0]+\"_\"+str(df.year[0])+\"_flat.png\"\n",
    "            bname_flat=str(df.obsid[0])+\"_\"+df.mission[0]+\"_\"+str(df.year[0])+\"_bin.png\"\n",
    "            tname=str(df.obsid[0])+\" - \"+df.mission[0]+\" - \"+str(df.year[0])+\" - \"+str(df.exptime[0])\n",
    "            lcf.plot().set_title(tname).get_figure().savefig(pname)\n",
    "            try:\n",
    "                ax = lcf.plot(column='sap_flux',normalize=True,label=\"SAP\");\n",
    "                lcf.plot(ax=ax,column='pdcsap_flux',normalize=True,label=\"PDCSAP\").set_title(pdcsap_flux_name).get_figure().savefig(pdcsap_flux_name);\n",
    "            except:\n",
    "                plt.figure().get_figure().savefig(pdcsap_flux_name);\n",
    "\n",
    "            try:\n",
    "                flat_lc = lcf.flatten(window_length=401)\n",
    "                folded_lc=flat_lc.fold(period=3.690621)\n",
    "                folded_lc.plot().set_title(pname_flat).get_figure().savefig(pname_flat);\n",
    "                binned_lc = folded_lc.bin(time_bin_size=0.01)\n",
    "                binned_lc.plot().set_title(bname_flat).get_figure().savefig(bname_flat);\n",
    "            except:\n",
    "                plt.figure().get_figure().savefig(pname_flat);\n",
    "                plt.figure().get_figure().savefig(bname_flat);\n",
    "\n",
    "\n",
    "\n",
    "            img = openpyxl.drawing.image.Image(pname)\n",
    "            img1 = openpyxl.drawing.image.Image(pdcsap_flux_name)\n",
    "            img2 = openpyxl.drawing.image.Image(pname_flat)\n",
    "            img3 = openpyxl.drawing.image.Image(bname_flat)\n",
    "            img.anchor = 'A'+str(k)\n",
    "            img1.anchor = 'O'+str(k)\n",
    "            img2.anchor = 'AC'+str(k)\n",
    "            img3.anchor = 'AQ'+str(k)\n",
    "\n",
    "            #print(img.anchor)\n",
    "            ws.add_image(img)\n",
    "            ws.add_image(img1)\n",
    "            ws.add_image(img2)\n",
    "            ws.add_image(img3)\n",
    "            wb.save(oname) \n",
    "            os.system('cls')\n",
    "           \n",
    "            k=l*25\n",
    "            l=l+1\n",
    "        except:\n",
    "            print(i,\" Corrupted\")\n",
    "#\n",
    "    files = glob.glob('*.png')\n",
    "    \n",
    "    for l in files:\n",
    "        shutil.move(l, \"out/plots/\")\n",
    "        \n",
    "    wb.close()    "
   ]
  },
  {
   "cell_type": "code",
   "execution_count": null,
   "id": "6b14d5ca-cc2c-480d-901c-e4432ed4f15e",
   "metadata": {},
   "outputs": [
    {
     "name": "stderr",
     "output_type": "stream",
     "text": [
      "Could not resolve KOI 5083.01 to a sky position.\n"
     ]
    },
    {
     "name": "stdout",
     "output_type": "stream",
     "text": [
      "0\n",
      "Duration: 0:00:03.796399\n"
     ]
    },
    {
     "name": "stderr",
     "output_type": "stream",
     "text": [
      "Could not resolve KOI 5283.01 to a sky position.\n"
     ]
    },
    {
     "name": "stdout",
     "output_type": "stream",
     "text": [
      "0\n",
      "Duration: 0:00:02.127364\n"
     ]
    },
    {
     "name": "stderr",
     "output_type": "stream",
     "text": [
      "Could not resolve KOI 5085.01 to a sky position.\n"
     ]
    },
    {
     "name": "stdout",
     "output_type": "stream",
     "text": [
      "0\n",
      "Duration: 0:00:02.304589\n"
     ]
    },
    {
     "name": "stderr",
     "output_type": "stream",
     "text": [
      "Could not resolve KOI 5211.01 to a sky position.\n"
     ]
    },
    {
     "name": "stdout",
     "output_type": "stream",
     "text": [
      "0\n",
      "Duration: 0:00:02.053477\n"
     ]
    },
    {
     "name": "stderr",
     "output_type": "stream",
     "text": [
      "Could not resolve KOI 5087.01 to a sky position.\n"
     ]
    },
    {
     "name": "stdout",
     "output_type": "stream",
     "text": [
      "0\n",
      "Duration: 0:00:02.062160\n"
     ]
    },
    {
     "name": "stderr",
     "output_type": "stream",
     "text": [
      "Could not resolve KOI 5231.01 to a sky position.\n"
     ]
    },
    {
     "name": "stdout",
     "output_type": "stream",
     "text": [
      "0\n",
      "Duration: 0:00:01.984195\n"
     ]
    },
    {
     "name": "stderr",
     "output_type": "stream",
     "text": [
      "Could not resolve KOI 5088.01 to a sky position.\n"
     ]
    },
    {
     "name": "stdout",
     "output_type": "stream",
     "text": [
      "0\n",
      "Duration: 0:00:01.802237\n"
     ]
    },
    {
     "name": "stderr",
     "output_type": "stream",
     "text": [
      "Could not resolve KOI 5276.01 to a sky position.\n"
     ]
    },
    {
     "name": "stdout",
     "output_type": "stream",
     "text": [
      "0\n",
      "Duration: 0:00:02.082231\n"
     ]
    },
    {
     "name": "stderr",
     "output_type": "stream",
     "text": [
      "Could not resolve KOI 5092.01 to a sky position.\n"
     ]
    },
    {
     "name": "stdout",
     "output_type": "stream",
     "text": [
      "0\n",
      "Duration: 0:00:01.925704\n"
     ]
    },
    {
     "name": "stderr",
     "output_type": "stream",
     "text": [
      "Could not resolve KOI 5290.01 to a sky position.\n"
     ]
    },
    {
     "name": "stdout",
     "output_type": "stream",
     "text": [
      "0\n",
      "Duration: 0:00:01.853841\n"
     ]
    },
    {
     "name": "stderr",
     "output_type": "stream",
     "text": [
      "Could not resolve KOI 5098.01 to a sky position.\n"
     ]
    },
    {
     "name": "stdout",
     "output_type": "stream",
     "text": [
      "0\n",
      "Duration: 0:00:01.875249\n"
     ]
    },
    {
     "name": "stderr",
     "output_type": "stream",
     "text": [
      "Could not resolve KOI 5327.01 to a sky position.\n"
     ]
    },
    {
     "name": "stdout",
     "output_type": "stream",
     "text": [
      "0\n",
      "Duration: 0:00:02.160240\n"
     ]
    },
    {
     "name": "stderr",
     "output_type": "stream",
     "text": [
      "Could not resolve KOI 5099.01 to a sky position.\n"
     ]
    },
    {
     "name": "stdout",
     "output_type": "stream",
     "text": [
      "0\n",
      "Duration: 0:00:02.055759\n"
     ]
    },
    {
     "name": "stderr",
     "output_type": "stream",
     "text": [
      "Could not resolve KOI 522.01 to a sky position.\n"
     ]
    },
    {
     "name": "stdout",
     "output_type": "stream",
     "text": [
      "0\n",
      "Duration: 0:00:02.270190\n"
     ]
    },
    {
     "name": "stderr",
     "output_type": "stream",
     "text": [
      "Could not resolve KOI 5101.01 to a sky position.\n"
     ]
    },
    {
     "name": "stdout",
     "output_type": "stream",
     "text": [
      "0\n",
      "Duration: 0:00:02.263354\n"
     ]
    },
    {
     "name": "stderr",
     "output_type": "stream",
     "text": [
      "Could not resolve KOI 5228.01 to a sky position.\n"
     ]
    },
    {
     "name": "stdout",
     "output_type": "stream",
     "text": [
      "0\n",
      "Duration: 0:00:02.122969\n"
     ]
    },
    {
     "name": "stderr",
     "output_type": "stream",
     "text": [
      "Could not resolve KOI 5104.01 to a sky position.\n"
     ]
    },
    {
     "name": "stdout",
     "output_type": "stream",
     "text": [
      "0\n",
      "Duration: 0:00:02.079399\n"
     ]
    },
    {
     "name": "stderr",
     "output_type": "stream",
     "text": [
      "Could not resolve KOI 524.01 to a sky position.\n"
     ]
    },
    {
     "name": "stdout",
     "output_type": "stream",
     "text": [
      "0\n",
      "Duration: 0:00:02.109065\n"
     ]
    },
    {
     "name": "stderr",
     "output_type": "stream",
     "text": [
      "Could not resolve KOI 5107.01 to a sky position.\n"
     ]
    },
    {
     "name": "stdout",
     "output_type": "stream",
     "text": [
      "0\n",
      "Duration: 0:00:02.120349\n"
     ]
    },
    {
     "name": "stderr",
     "output_type": "stream",
     "text": [
      "Could not resolve KOI 5254.01 to a sky position.\n"
     ]
    },
    {
     "name": "stdout",
     "output_type": "stream",
     "text": [
      "0\n",
      "Duration: 0:00:01.946591\n"
     ]
    },
    {
     "name": "stderr",
     "output_type": "stream",
     "text": [
      "Could not resolve KOI 5117.01 to a sky position.\n"
     ]
    },
    {
     "name": "stdout",
     "output_type": "stream",
     "text": [
      "0\n",
      "Duration: 0:00:02.138790\n"
     ]
    },
    {
     "name": "stderr",
     "output_type": "stream",
     "text": [
      "Could not resolve KOI 5279.01 to a sky position.\n"
     ]
    },
    {
     "name": "stdout",
     "output_type": "stream",
     "text": [
      "0\n",
      "Duration: 0:00:01.972167\n"
     ]
    },
    {
     "name": "stderr",
     "output_type": "stream",
     "text": [
      "Could not resolve KOI 5119.01 to a sky position.\n"
     ]
    },
    {
     "name": "stdout",
     "output_type": "stream",
     "text": [
      "0\n",
      "Duration: 0:00:01.974927\n"
     ]
    },
    {
     "name": "stderr",
     "output_type": "stream",
     "text": [
      "Could not resolve KOI 5287.01 to a sky position.\n"
     ]
    },
    {
     "name": "stdout",
     "output_type": "stream",
     "text": [
      "0\n",
      "Duration: 0:00:02.384759\n"
     ]
    },
    {
     "name": "stderr",
     "output_type": "stream",
     "text": [
      "Could not resolve KOI 5126.01 to a sky position.\n"
     ]
    },
    {
     "name": "stdout",
     "output_type": "stream",
     "text": [
      "0\n",
      "Duration: 0:00:01.840004\n"
     ]
    },
    {
     "name": "stderr",
     "output_type": "stream",
     "text": [
      "Could not resolve KOI 531.01 to a sky position.\n"
     ]
    },
    {
     "name": "stdout",
     "output_type": "stream",
     "text": [
      "0\n",
      "Duration: 0:00:02.237802\n"
     ]
    },
    {
     "name": "stderr",
     "output_type": "stream",
     "text": [
      "Could not resolve KOI 5129.01 to a sky position.\n"
     ]
    },
    {
     "name": "stdout",
     "output_type": "stream",
     "text": [
      "0\n",
      "Duration: 0:00:01.972932\n"
     ]
    },
    {
     "name": "stderr",
     "output_type": "stream",
     "text": [
      "Could not resolve KOI 5323.01 to a sky position.\n"
     ]
    },
    {
     "name": "stdout",
     "output_type": "stream",
     "text": [
      "0\n",
      "Duration: 0:00:01.978821\n"
     ]
    },
    {
     "name": "stderr",
     "output_type": "stream",
     "text": [
      "Could not resolve KOI 5132.01 to a sky position.\n"
     ]
    },
    {
     "name": "stdout",
     "output_type": "stream",
     "text": [
      "0\n",
      "Duration: 0:00:01.916738\n"
     ]
    },
    {
     "name": "stderr",
     "output_type": "stream",
     "text": [
      "Could not resolve KOI 533.02 to a sky position.\n"
     ]
    },
    {
     "name": "stdout",
     "output_type": "stream",
     "text": [
      "0\n",
      "Duration: 0:00:01.887911\n"
     ]
    },
    {
     "name": "stderr",
     "output_type": "stream",
     "text": [
      "Could not resolve KOI 5135.01 to a sky position.\n"
     ]
    },
    {
     "name": "stdout",
     "output_type": "stream",
     "text": [
      "0\n",
      "Duration: 0:00:02.401933\n"
     ]
    },
    {
     "name": "stderr",
     "output_type": "stream",
     "text": [
      "Could not resolve KOI 5216.01 to a sky position.\n"
     ]
    },
    {
     "name": "stdout",
     "output_type": "stream",
     "text": [
      "0\n",
      "Duration: 0:00:01.940011\n"
     ]
    },
    {
     "name": "stderr",
     "output_type": "stream",
     "text": [
      "Could not resolve KOI 5142.01 to a sky position.\n"
     ]
    },
    {
     "name": "stdout",
     "output_type": "stream",
     "text": [
      "0\n",
      "Duration: 0:00:01.895454\n"
     ]
    },
    {
     "name": "stderr",
     "output_type": "stream",
     "text": [
      "Could not resolve KOI 5220.01 to a sky position.\n"
     ]
    },
    {
     "name": "stdout",
     "output_type": "stream",
     "text": [
      "0\n",
      "Duration: 0:00:02.046424\n"
     ]
    },
    {
     "name": "stderr",
     "output_type": "stream",
     "text": [
      "Could not resolve KOI 5149.01 to a sky position.\n"
     ]
    },
    {
     "name": "stdout",
     "output_type": "stream",
     "text": [
      "0\n",
      "Duration: 0:00:02.079595\n"
     ]
    },
    {
     "name": "stderr",
     "output_type": "stream",
     "text": [
      "Could not resolve KOI 5224.01 to a sky position.\n"
     ]
    },
    {
     "name": "stdout",
     "output_type": "stream",
     "text": [
      "0\n",
      "Duration: 0:00:02.111407\n"
     ]
    },
    {
     "name": "stderr",
     "output_type": "stream",
     "text": [
      "Could not resolve KOI 5150.01 to a sky position.\n"
     ]
    },
    {
     "name": "stdout",
     "output_type": "stream",
     "text": [
      "0\n",
      "Duration: 0:00:02.200572\n"
     ]
    },
    {
     "name": "stderr",
     "output_type": "stream",
     "text": [
      "Could not resolve KOI 5230.01 to a sky position.\n"
     ]
    },
    {
     "name": "stdout",
     "output_type": "stream",
     "text": [
      "0\n",
      "Duration: 0:00:02.033993\n"
     ]
    },
    {
     "name": "stderr",
     "output_type": "stream",
     "text": [
      "Could not resolve KOI 5155.01 to a sky position.\n"
     ]
    },
    {
     "name": "stdout",
     "output_type": "stream",
     "text": [
      "0\n",
      "Duration: 0:00:02.441640\n"
     ]
    },
    {
     "name": "stderr",
     "output_type": "stream",
     "text": [
      "Could not resolve KOI 5237.01 to a sky position.\n"
     ]
    },
    {
     "name": "stdout",
     "output_type": "stream",
     "text": [
      "0\n",
      "Duration: 0:00:02.020860\n"
     ]
    },
    {
     "name": "stderr",
     "output_type": "stream",
     "text": [
      "Could not resolve KOI 5156.01 to a sky position.\n"
     ]
    },
    {
     "name": "stdout",
     "output_type": "stream",
     "text": [
      "0\n",
      "Duration: 0:00:02.249968\n"
     ]
    },
    {
     "name": "stderr",
     "output_type": "stream",
     "text": [
      "Could not resolve KOI 5247.01 to a sky position.\n"
     ]
    },
    {
     "name": "stdout",
     "output_type": "stream",
     "text": [
      "0\n",
      "Duration: 0:00:02.416434\n"
     ]
    },
    {
     "name": "stderr",
     "output_type": "stream",
     "text": [
      "Could not resolve KOI 5157.01 to a sky position.\n"
     ]
    },
    {
     "name": "stdout",
     "output_type": "stream",
     "text": [
      "0\n",
      "Duration: 0:00:02.344167\n"
     ]
    },
    {
     "name": "stderr",
     "output_type": "stream",
     "text": [
      "Could not resolve KOI 5249.01 to a sky position.\n"
     ]
    },
    {
     "name": "stdout",
     "output_type": "stream",
     "text": [
      "0\n",
      "Duration: 0:00:02.244777\n"
     ]
    },
    {
     "name": "stderr",
     "output_type": "stream",
     "text": [
      "Could not resolve KOI 5158.01 to a sky position.\n"
     ]
    },
    {
     "name": "stdout",
     "output_type": "stream",
     "text": [
      "0\n",
      "Duration: 0:00:02.123535\n"
     ]
    },
    {
     "name": "stderr",
     "output_type": "stream",
     "text": [
      "Could not resolve KOI 5269.01 to a sky position.\n"
     ]
    },
    {
     "name": "stdout",
     "output_type": "stream",
     "text": [
      "0\n",
      "Duration: 0:00:02.524906\n"
     ]
    },
    {
     "name": "stderr",
     "output_type": "stream",
     "text": [
      "Could not resolve KOI 5164.01 to a sky position.\n"
     ]
    },
    {
     "name": "stdout",
     "output_type": "stream",
     "text": [
      "0\n",
      "Duration: 0:00:02.431304\n"
     ]
    },
    {
     "name": "stderr",
     "output_type": "stream",
     "text": [
      "Could not resolve KOI 5278.01 to a sky position.\n"
     ]
    },
    {
     "name": "stdout",
     "output_type": "stream",
     "text": [
      "0\n",
      "Duration: 0:00:02.034781\n"
     ]
    },
    {
     "name": "stderr",
     "output_type": "stream",
     "text": [
      "Could not resolve KOI 5169.01 to a sky position.\n"
     ]
    },
    {
     "name": "stdout",
     "output_type": "stream",
     "text": [
      "0\n",
      "Duration: 0:00:01.979626\n"
     ]
    },
    {
     "name": "stderr",
     "output_type": "stream",
     "text": [
      "Could not resolve KOI 5281.01 to a sky position.\n"
     ]
    },
    {
     "name": "stdout",
     "output_type": "stream",
     "text": [
      "0\n",
      "Duration: 0:00:02.322974\n"
     ]
    },
    {
     "name": "stderr",
     "output_type": "stream",
     "text": [
      "Could not resolve KOI 5174.01 to a sky position.\n"
     ]
    },
    {
     "name": "stdout",
     "output_type": "stream",
     "text": [
      "0\n",
      "Duration: 0:00:01.745864\n"
     ]
    },
    {
     "name": "stderr",
     "output_type": "stream",
     "text": [
      "Could not resolve KOI 5284.01 to a sky position.\n"
     ]
    },
    {
     "name": "stdout",
     "output_type": "stream",
     "text": [
      "0\n",
      "Duration: 0:00:02.216277\n"
     ]
    },
    {
     "name": "stderr",
     "output_type": "stream",
     "text": [
      "Could not resolve KOI 5176.01 to a sky position.\n"
     ]
    },
    {
     "name": "stdout",
     "output_type": "stream",
     "text": [
      "0\n",
      "Duration: 0:00:02.115050\n"
     ]
    },
    {
     "name": "stderr",
     "output_type": "stream",
     "text": [
      "Could not resolve KOI 5288.01 to a sky position.\n"
     ]
    },
    {
     "name": "stdout",
     "output_type": "stream",
     "text": [
      "0\n",
      "Duration: 0:00:01.822037\n"
     ]
    },
    {
     "name": "stderr",
     "output_type": "stream",
     "text": [
      "Could not resolve KOI 5179.01 to a sky position.\n"
     ]
    },
    {
     "name": "stdout",
     "output_type": "stream",
     "text": [
      "0\n",
      "Duration: 0:00:02.138605\n"
     ]
    },
    {
     "name": "stderr",
     "output_type": "stream",
     "text": [
      "Could not resolve KOI 5297.01 to a sky position.\n"
     ]
    },
    {
     "name": "stdout",
     "output_type": "stream",
     "text": [
      "0\n",
      "Duration: 0:00:01.949543\n"
     ]
    },
    {
     "name": "stderr",
     "output_type": "stream",
     "text": [
      "Could not resolve KOI 5192.01 to a sky position.\n"
     ]
    },
    {
     "name": "stdout",
     "output_type": "stream",
     "text": [
      "0\n",
      "Duration: 0:00:02.757227\n"
     ]
    },
    {
     "name": "stderr",
     "output_type": "stream",
     "text": [
      "Could not resolve KOI 5310.01 to a sky position.\n"
     ]
    },
    {
     "name": "stdout",
     "output_type": "stream",
     "text": [
      "0\n",
      "Duration: 0:00:01.799308\n"
     ]
    },
    {
     "name": "stderr",
     "output_type": "stream",
     "text": [
      "Could not resolve KOI 5202.01 to a sky position.\n"
     ]
    },
    {
     "name": "stdout",
     "output_type": "stream",
     "text": [
      "0\n",
      "Duration: 0:00:01.832266\n"
     ]
    },
    {
     "name": "stderr",
     "output_type": "stream",
     "text": [
      "Could not resolve KOI 5322.01 to a sky position.\n"
     ]
    },
    {
     "name": "stdout",
     "output_type": "stream",
     "text": [
      "0\n",
      "Duration: 0:00:01.951511\n"
     ]
    },
    {
     "name": "stderr",
     "output_type": "stream",
     "text": [
      "Could not resolve KOI 5205.01 to a sky position.\n"
     ]
    },
    {
     "name": "stdout",
     "output_type": "stream",
     "text": [
      "0\n",
      "Duration: 0:00:02.423164\n"
     ]
    },
    {
     "name": "stderr",
     "output_type": "stream",
     "text": [
      "Could not resolve KOI 5324.01 to a sky position.\n"
     ]
    },
    {
     "name": "stdout",
     "output_type": "stream",
     "text": [
      "0\n",
      "Duration: 0:00:01.949938\n"
     ]
    },
    {
     "name": "stderr",
     "output_type": "stream",
     "text": [
      "Could not resolve KOI 5207.01 to a sky position.\n"
     ]
    },
    {
     "name": "stdout",
     "output_type": "stream",
     "text": [
      "0\n",
      "Duration: 0:00:02.209256\n"
     ]
    },
    {
     "name": "stderr",
     "output_type": "stream",
     "text": [
      "Could not resolve KOI 5329.01 to a sky position.\n"
     ]
    },
    {
     "name": "stdout",
     "output_type": "stream",
     "text": [
      "0\n",
      "Duration: 0:00:01.980925\n"
     ]
    },
    {
     "name": "stderr",
     "output_type": "stream",
     "text": [
      "Could not resolve KOI 521.01 to a sky position.\n"
     ]
    },
    {
     "name": "stdout",
     "output_type": "stream",
     "text": [
      "0\n",
      "Duration: 0:00:01.827467\n"
     ]
    },
    {
     "name": "stderr",
     "output_type": "stream",
     "text": [
      "Could not resolve KOI 521.02 to a sky position.\n"
     ]
    },
    {
     "name": "stdout",
     "output_type": "stream",
     "text": [
      "0\n",
      "Duration: 0:00:02.070992\n"
     ]
    },
    {
     "name": "stderr",
     "output_type": "stream",
     "text": [
      "Could not resolve KOI 5331.01 to a sky position.\n"
     ]
    },
    {
     "name": "stdout",
     "output_type": "stream",
     "text": [
      "0\n",
      "Duration: 0:00:01.821947\n"
     ]
    }
   ],
   "source": [
    "\n",
    "df2=pd.read_csv(\"p200.csv\")\n",
    "\n",
    "\n",
    "for i in df2['Header']:\n",
    "    start_time = datetime.now()\n",
    "    wb = openpyxl.Workbook() \n",
    "    oname=\"out/Res_\"+i+\".xlsx\"\n",
    "    wb.save(oname)\n",
    "    wb.close()\n",
    "    lifht_pro(i,oname)  \n",
    "    end_time= datetime.now()\n",
    "    Duration=end_time - start_time\n",
    "    print('Duration: {}'.format(end_time - start_time))\n",
    "    "
   ]
  },
  {
   "cell_type": "code",
   "execution_count": null,
   "id": "57494578-9d54-4872-b8f2-bb74a1b4b3e1",
   "metadata": {},
   "outputs": [],
   "source": []
  }
 ],
 "metadata": {
  "kernelspec": {
   "display_name": "Python 3 (ipykernel)",
   "language": "python",
   "name": "python3"
  },
  "language_info": {
   "codemirror_mode": {
    "name": "ipython",
    "version": 3
   },
   "file_extension": ".py",
   "mimetype": "text/x-python",
   "name": "python",
   "nbconvert_exporter": "python",
   "pygments_lexer": "ipython3",
   "version": "3.9.12"
  }
 },
 "nbformat": 4,
 "nbformat_minor": 5
}
